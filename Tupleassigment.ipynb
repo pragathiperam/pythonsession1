{
 "cells": [
  {
   "cell_type": "markdown",
   "id": "e730c10d",
   "metadata": {},
   "source": [
    "# TUPLE"
   ]
  },
  {
   "cell_type": "markdown",
   "id": "a46705ae",
   "metadata": {},
   "source": [
    "- A tuple represants a squance of any objects\n",
    "- seaparated by commas and encolsed in parenthneses\n",
    "- A tuple is an immutable object,which means its cannot be changed\n",
    "- and we use it to represanted fix collections and items"
   ]
  },
  {
   "cell_type": "code",
   "execution_count": 7,
   "id": "40f1f638",
   "metadata": {},
   "outputs": [
    {
     "name": "stdout",
     "output_type": "stream",
     "text": [
      "('nikhi', 'deepu', 'pragathi', 'rishika')\n"
     ]
    }
   ],
   "source": [
    "#examples:\n",
    "tuple1=(\"nikhi\",\"deepu\",\"pragathi\",\"rishika\")\n",
    "tuple2=(\"nikhi\",\"deepu\",\"pragathi\",\"rishika\")\n",
    "print(tuple1)"
   ]
  },
  {
   "cell_type": "markdown",
   "id": "6a79749a",
   "metadata": {},
   "source": [
    " Create tuple with one item"
   ]
  },
  {
   "cell_type": "code",
   "execution_count": 3,
   "id": "2e5b3eeb",
   "metadata": {},
   "outputs": [
    {
     "name": "stdout",
     "output_type": "stream",
     "text": [
      "<class 'tuple'>\n",
      "<class 'str'>\n"
     ]
    }
   ],
   "source": [
    "#To create a tuple with only one item, you have to add a comma after the item,\n",
    "#otherwise python will not reconize it as a tuple.\n",
    "tuple1=(\"pragathi\",)\n",
    "print(type(tuple1))\n",
    "\n",
    "#not a tuple\n",
    "tuple1=(\"pragathi\")\n",
    "print(type(tuple1))"
   ]
  },
  {
   "cell_type": "markdown",
   "id": "3773e7cc",
   "metadata": {},
   "source": [
    "TYPE"
   ]
  },
  {
   "cell_type": "code",
   "execution_count": 10,
   "id": "95e6af82",
   "metadata": {},
   "outputs": [
    {
     "name": "stdout",
     "output_type": "stream",
     "text": [
      "type of tuple2: <class 'type'>\n"
     ]
    }
   ],
   "source": [
    "#the type() function is used to determine the type of an object.\n",
    "#when we applied to a tuple, it returns the type of the tuple object.\n",
    "#let's explore this with an example.\n",
    "#creating tuple\n",
    "tuple1=(1,\"pragathi\",3.14,False)\n",
    "\n",
    "#checking the type of the tuple\n",
    "tuple2=type(tuple2)\n",
    "\n",
    "#Displaying the result\n",
    "print(\"type of tuple2:\",tuple2)"
   ]
  },
  {
   "cell_type": "markdown",
   "id": "cb3a7c1c",
   "metadata": {},
   "source": [
    "LEN"
   ]
  },
  {
   "cell_type": "code",
   "execution_count": 13,
   "id": "590af89c",
   "metadata": {},
   "outputs": [
    {
     "name": "stdout",
     "output_type": "stream",
     "text": [
      "length of tuple1: 3\n"
     ]
    }
   ],
   "source": [
    "#which is used to determine the length or the number of elelments in seprance\n",
    "#including tuples\n",
    "tuple1=(\"nikhi\",4.15,True)\n",
    "\n",
    "#getting the length of the tuple\n",
    "tuple_length=len(tuple1)\n",
    "\n",
    "#displaying the result\n",
    "print(\"length of tuple1:\",tuple_length)"
   ]
  },
  {
   "cell_type": "markdown",
   "id": "4a03daa0",
   "metadata": {},
   "source": [
    " IN"
   ]
  },
  {
   "cell_type": "code",
   "execution_count": 2,
   "id": "97e9f256",
   "metadata": {},
   "outputs": [
    {
     "name": "stdout",
     "output_type": "stream",
     "text": [
      "True\n",
      "False\n"
     ]
    }
   ],
   "source": [
    "#we use in operator to check if the object is present in the tuple\n",
    "tuple1=(\"chrome\",\"is\" \"best\",\"for\",\"doing\",\"work\")\n",
    "print(\"chrome\" in tuple1)\n",
    "print(\"helloworld\" in tuple1)"
   ]
  },
  {
   "cell_type": "markdown",
   "id": "789860ac",
   "metadata": {},
   "source": [
    "MAX-MIN"
   ]
  },
  {
   "cell_type": "code",
   "execution_count": 4,
   "id": "2780eec9",
   "metadata": {},
   "outputs": [
    {
     "name": "stdout",
     "output_type": "stream",
     "text": [
      "maximum value: 30\n",
      "minimum value: 5\n"
     ]
    }
   ],
   "source": [
    "#the max()&min()can be used with tuples to find the max and min values.\n",
    "#these functions work with any itreable, including tuples.\n",
    "#creating a tuple of members\n",
    "numbers_tuple=(5,6,15,20,30)\n",
    "\n",
    "\n",
    "#using the \"max\" and \"min\" functions with he tuple\n",
    "max_values=max(numbers_tuple)\n",
    "min_values=min(numbers_tuple)\n",
    "\n",
    "#display the results\n",
    "print(\"maximum value:\",max_values)\n",
    "print(\"minimum value:\",min_values)"
   ]
  },
  {
   "cell_type": "markdown",
   "id": "38268733",
   "metadata": {},
   "source": [
    "Concantenation"
   ]
  },
  {
   "cell_type": "code",
   "execution_count": 5,
   "id": "9a7caed4",
   "metadata": {},
   "outputs": [
    {
     "name": "stdout",
     "output_type": "stream",
     "text": [
      "concatenated_tuple: (3, 4, 5, 'pragathi', 'nikhi', 'deepu')\n"
     ]
    }
   ],
   "source": [
    "#you concentarte two tuples using the + operator.\n",
    "#his creates a new tuple containg the elements of both tuples\n",
    "#creating two tuples\n",
    "tuple1=(3, 4, 5)\n",
    "tuple2=(\"pragathi\", \"nikhi\", \"deepu\")\n",
    "\n",
    "\n",
    "#concatenating the tuples\n",
    "concatenated_tuple=tuple1+tuple2\n",
    "\n",
    "#Display the results\n",
    "print(\"concatenated_tuple:\",concatenated_tuple)\n"
   ]
  },
  {
   "cell_type": "markdown",
   "id": "ee8d666e",
   "metadata": {},
   "source": [
    "multipulication-subraction-division"
   ]
  },
  {
   "cell_type": "markdown",
   "id": "b3bff03c",
   "metadata": {},
   "source": [
    "- Unlike lists or arrays,tuples in python do not  support direct mul,div,sub\n",
    "- Tuples are immutable, meaning their elements cannot be changed after creation\n",
    "- operation like mul and sub that would modify the elements are not applicable to tuples"
   ]
  },
  {
   "cell_type": "code",
   "execution_count": 2,
   "id": "4175efad",
   "metadata": {},
   "outputs": [
    {
     "name": "stdout",
     "output_type": "stream",
     "text": [
      "multipulication(repating tuple): (1, 2, 3, 1, 2, 3, 1, 2, 3)\n",
      "(concentratioln(adding tuple1 and tuple2): (1, 2, 3, 4, 5, 6)\n"
     ]
    }
   ],
   "source": [
    "#here is the example:\n",
    "# creating two tuples\n",
    "tuple1=(1,2,3)\n",
    "tuple2=(4,5,6)\n",
    "#ultipulication (reapating tuple)\n",
    "result_multiply=tuple1 * 3\n",
    "\n",
    "#concentration (simulating addition)\n",
    "result_add=tuple1+tuple2\n",
    "\n",
    "\n",
    "#display the results\n",
    "print(\"multipulication(repating tuple):\",result_multiply)\n",
    "print(\"(concentratioln(adding tuple1 and tuple2):\",result_add)"
   ]
  },
  {
   "cell_type": "markdown",
   "id": "c4b37890",
   "metadata": {},
   "source": [
    "Indexing"
   ]
  },
  {
   "cell_type": "code",
   "execution_count": 3,
   "id": "5e130b88",
   "metadata": {},
   "outputs": [
    {
     "name": "stdout",
     "output_type": "stream",
     "text": [
      "the first element: 0\n",
      "the last element: 3.0\n",
      "the data type of the second element: <class 'list'>\n"
     ]
    }
   ],
   "source": [
    "#tuple is a sequance of objects, we can access the objects through indexing\n",
    "#lets try indexing a tuple:\n",
    "a_tuple=(0,[1,2,3],(4,5,6,7),3.0)\n",
    "print(\"the first element:\",a_tuple[0])\n",
    "print(\"the last element:\",a_tuple[-1])\n",
    "print(\"the data type of the second element:\",type(a_tuple[1]))\n",
    "#in this first second lines returns the value of the tuples 1st and last\n",
    "#the last statement prints out the data type\n",
    "#of the second element of the tuple which is a list object."
   ]
  },
  {
   "cell_type": "markdown",
   "id": "ebc2030d",
   "metadata": {},
   "source": [
    "Slicing"
   ]
  },
  {
   "cell_type": "markdown",
   "id": "04615aac",
   "metadata": {},
   "source": [
    "- slicing a tuple is as simple as slicing a python string or list with the same rules\n",
    "- to get a range of elements with a tuple\n",
    "- we can specify a range of indices to retrive by selecting\n",
    "- where to start(inclusive)and end(exclusive) the range"
   ]
  },
  {
   "cell_type": "code",
   "execution_count": 4,
   "id": "60bb8fe9",
   "metadata": {},
   "outputs": [
    {
     "name": "stdout",
     "output_type": "stream",
     "text": [
      "(2, 4, 5)\n",
      "(8, 10)\n",
      "(7, 8, 10)\n",
      "(5, 7, 8)\n"
     ]
    }
   ],
   "source": [
    "num_tuple=2,4,5,7,8,10\n",
    "print(num_tuple[:3])\n",
    "print(num_tuple[4:])\n",
    "print(num_tuple[-3:])\n",
    "print(num_tuple[2:5])"
   ]
  },
  {
   "cell_type": "markdown",
   "id": "f5a75d11",
   "metadata": {},
   "source": [
    "# Tuple count() Methods"
   ]
  },
  {
   "cell_type": "code",
   "execution_count": 5,
   "id": "7de42e9a",
   "metadata": {},
   "outputs": [
    {
     "name": "stdout",
     "output_type": "stream",
     "text": [
      "3\n"
     ]
    }
   ],
   "source": [
    "#returns the same number of times a specified value occures in a tuple\n",
    "#return the number of times the value \"s\" appears in the tuple:\n",
    "thistuple=(1,2,3,4,5,6,8,7,6,2,5,6)\n",
    "\n",
    "x=thistuple.count(6)\n",
    "\n",
    "print(x)"
   ]
  },
  {
   "cell_type": "markdown",
   "id": "f1c23e6a",
   "metadata": {},
   "source": [
    "# Tuple index() method"
   ]
  },
  {
   "cell_type": "code",
   "execution_count": 6,
   "id": "f70b9141",
   "metadata": {},
   "outputs": [
    {
     "name": "stdout",
     "output_type": "stream",
     "text": [
      "4\n"
     ]
    }
   ],
   "source": [
    "#searches the tuple for a specified value and\n",
    "#returns the position of where it was found\n",
    "#search for the first occcurance of the value 8,\n",
    "#and return its position:\n",
    "thistuple=(1,3,5,6,8,9,2,4,6,3,4)\n",
    "\n",
    "\n",
    "x=thistuple.index(8)\n",
    "\n",
    "print(x)"
   ]
  },
  {
   "cell_type": "code",
   "execution_count": null,
   "id": "59d16ac4",
   "metadata": {},
   "outputs": [],
   "source": []
  }
 ],
 "metadata": {
  "kernelspec": {
   "display_name": "Python 3 (ipykernel)",
   "language": "python",
   "name": "python3"
  },
  "language_info": {
   "codemirror_mode": {
    "name": "ipython",
    "version": 3
   },
   "file_extension": ".py",
   "mimetype": "text/x-python",
   "name": "python",
   "nbconvert_exporter": "python",
   "pygments_lexer": "ipython3",
   "version": "3.10.9"
  }
 },
 "nbformat": 4,
 "nbformat_minor": 5
}
